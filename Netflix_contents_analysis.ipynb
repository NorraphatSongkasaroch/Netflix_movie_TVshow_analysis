{
 "cells": [
  {
   "cell_type": "markdown",
   "id": "2620d4ca",
   "metadata": {},
   "source": [
    "# Introduction"
   ]
  },
  {
   "cell_type": "markdown",
   "id": "349ad187",
   "metadata": {},
   "source": [
    "This dataset consists of tv shows and movies available on Netflix as of 2019. The dataset is collected from Flixable which is a third-party Netflix search engine.\n",
    "\n",
    "In 2018, they released an interesting report which shows that the number of TV shows on Netflix has nearly tripled since 2010. The streaming service’s number of movies has decreased by more than 2,000 titles since 2010, while its number of TV shows has nearly tripled. It will be interesting to explore what all other insights can be obtained from the same dataset"
   ]
  },
  {
   "cell_type": "code",
   "execution_count": 19,
   "id": "00e414ba",
   "metadata": {},
   "outputs": [],
   "source": [
    "import datetime as dt\n",
    "import statistics as stat\n",
    "import numpy as np\n",
    "import pandas as pd\n",
    "import matplotlib.pyplot as plt\n",
    "import seaborn as sns"
   ]
  },
  {
   "cell_type": "markdown",
   "id": "f2dd3257",
   "metadata": {},
   "source": [
    "###### Get the data"
   ]
  },
  {
   "cell_type": "code",
   "execution_count": 20,
   "id": "4938c696",
   "metadata": {},
   "outputs": [],
   "source": [
    "nf = pd.read_csv('C:\\\\data analyst\\\\Python\\\\Project\\\\1. Netflix\\\\netflix_titles_nov_2019.csv')"
   ]
  },
  {
   "cell_type": "markdown",
   "id": "6bb7c992",
   "metadata": {},
   "source": [
    "###### Inspect data"
   ]
  },
  {
   "cell_type": "code",
   "execution_count": 21,
   "id": "b5c93c43",
   "metadata": {},
   "outputs": [
    {
     "name": "stdout",
     "output_type": "stream",
     "text": [
      "<class 'pandas.core.frame.DataFrame'>\n",
      "RangeIndex: 5837 entries, 0 to 5836\n",
      "Data columns (total 12 columns):\n",
      " #   Column        Non-Null Count  Dtype \n",
      "---  ------        --------------  ----- \n",
      " 0   show_id       5837 non-null   int64 \n",
      " 1   title         5837 non-null   object\n",
      " 2   director      3936 non-null   object\n",
      " 3   cast          5281 non-null   object\n",
      " 4   country       5410 non-null   object\n",
      " 5   date_added    5195 non-null   object\n",
      " 6   release_year  5837 non-null   int64 \n",
      " 7   rating        5827 non-null   object\n",
      " 8   duration      5837 non-null   object\n",
      " 9   listed_in     5837 non-null   object\n",
      " 10  description   5837 non-null   object\n",
      " 11  type          5837 non-null   object\n",
      "dtypes: int64(2), object(10)\n",
      "memory usage: 547.3+ KB\n",
      "None\n"
     ]
    }
   ],
   "source": [
    "print(nf.info())"
   ]
  },
  {
   "cell_type": "code",
   "execution_count": 22,
   "id": "99930164",
   "metadata": {},
   "outputs": [
    {
     "name": "stdout",
     "output_type": "stream",
     "text": [
      "    show_id                                title                    director  \\\n",
      "0  81193313                            Chocolate                         NaN   \n",
      "1  81197050  Guatemala: Heart of the Mayan World  Luis Ara, Ignacio Jaunsolo   \n",
      "2  81213894                      The Zoya Factor             Abhishek Sharma   \n",
      "3  81082007                            Atlantics                   Mati Diop   \n",
      "4  80213643                      Chip and Potato                         NaN   \n",
      "\n",
      "                                                cast  \\\n",
      "0  Ha Ji-won, Yoon Kye-sang, Jang Seung-jo, Kang ...   \n",
      "1                                  Christian Morales   \n",
      "2  Sonam Kapoor, Dulquer Salmaan, Sanjay Kapoor, ...   \n",
      "3  Mama Sane, Amadou Mbow, Ibrahima Traore, Nicol...   \n",
      "4  Abigail Oliver, Andrea Libman, Briana Buckmast...   \n",
      "\n",
      "                    country         date_added  release_year rating  \\\n",
      "0               South Korea  November 30, 2019          2019  TV-14   \n",
      "1                       NaN  November 30, 2019          2019   TV-G   \n",
      "2                     India  November 30, 2019          2019  TV-14   \n",
      "3  France, Senegal, Belgium  November 29, 2019          2019  TV-14   \n",
      "4    Canada, United Kingdom                NaN          2019   TV-Y   \n",
      "\n",
      "    duration                                          listed_in  \\\n",
      "0   1 Season  International TV Shows, Korean TV Shows, Roman...   \n",
      "1     67 min                Documentaries, International Movies   \n",
      "2    135 min             Comedies, Dramas, International Movies   \n",
      "3    106 min   Dramas, Independent Movies, International Movies   \n",
      "4  2 Seasons                                           Kids' TV   \n",
      "\n",
      "                                         description     type  \n",
      "0  Brought together by meaningful meals in the pa...  TV Show  \n",
      "1  From Sierra de las Minas to Esquipulas, explor...    Movie  \n",
      "2  A goofy copywriter unwittingly convinces the I...    Movie  \n",
      "3  Arranged to marry a rich man, young Ada is cru...    Movie  \n",
      "4  Lovable pug Chip starts kindergarten, makes ne...  TV Show  \n"
     ]
    }
   ],
   "source": [
    "print(nf.head())"
   ]
  },
  {
   "cell_type": "markdown",
   "id": "18f6596d",
   "metadata": {},
   "source": [
    "###### Cleaning and preparing data"
   ]
  },
  {
   "cell_type": "code",
   "execution_count": 23,
   "id": "136298ac",
   "metadata": {},
   "outputs": [
    {
     "name": "stdout",
     "output_type": "stream",
     "text": [
      "<class 'pandas.core.frame.DataFrame'>\n",
      "Int64Index: 5837 entries, 0 to 5836\n",
      "Data columns (total 12 columns):\n",
      " #   Column        Non-Null Count  Dtype \n",
      "---  ------        --------------  ----- \n",
      " 0   show_id       5837 non-null   int64 \n",
      " 1   title         5837 non-null   object\n",
      " 2   director      3936 non-null   object\n",
      " 3   cast          5281 non-null   object\n",
      " 4   country       5410 non-null   object\n",
      " 5   date_added    5195 non-null   object\n",
      " 6   release_year  5837 non-null   int64 \n",
      " 7   rating        5837 non-null   object\n",
      " 8   duration      5837 non-null   object\n",
      " 9   category      5837 non-null   object\n",
      " 10  description   5837 non-null   object\n",
      " 11  type          5837 non-null   object\n",
      "dtypes: int64(2), object(10)\n",
      "memory usage: 721.9+ KB\n",
      "None\n"
     ]
    }
   ],
   "source": [
    "nf.drop_duplicates(inplace = True)\n",
    "for i  in range(len(nf)) :\n",
    "    if nf.loc[i,\"date_added\"] == np.nan  :\n",
    "        nf.loc[i,\"date_added\"] = dt.date(nf.loc[i,\"release_year\"],1,1)\n",
    "nf.rename(columns={'listed_in':'category'},inplace= True)\n",
    "nf[\"rating\"] = nf[\"rating\"].fillna(stat.mode(nf[\"rating\"]))\n",
    "print(nf.info())"
   ]
  },
  {
   "cell_type": "markdown",
   "id": "5d9c7858",
   "metadata": {},
   "source": [
    "## Time to explore!"
   ]
  },
  {
   "cell_type": "markdown",
   "id": "5e71f027",
   "metadata": {},
   "source": [
    "###### See proprotion between number of movies and  TV shows in each year"
   ]
  },
  {
   "cell_type": "code",
   "execution_count": 24,
   "id": "f4b744ee",
   "metadata": {},
   "outputs": [
    {
     "name": "stdout",
     "output_type": "stream",
     "text": [
      "Proportion between movies and TV shows in each year\n",
      "release_year  type   \n",
      "1925          TV Show    1.000000\n",
      "1942          Movie      1.000000\n",
      "1943          Movie      1.000000\n",
      "1944          Movie      1.000000\n",
      "1945          Movie      1.000000\n",
      "                           ...   \n",
      "2018          Movie      0.605769\n",
      "              TV Show    0.394231\n",
      "2019          TV Show    0.544619\n",
      "              Movie      0.455381\n",
      "2020          TV Show    1.000000\n",
      "Name: type, Length: 113, dtype: float64\n"
     ]
    }
   ],
   "source": [
    "print(\"Proportion between movies and TV shows in each year\")\n",
    "type_each_year = nf.groupby(\"release_year\")[\"type\"].value_counts(normalize=True)\n",
    "print(type_each_year)"
   ]
  },
  {
   "cell_type": "markdown",
   "id": "b6f4b11e",
   "metadata": {},
   "source": [
    "###### Plot graph to see number of contents in tha data each rating"
   ]
  },
  {
   "cell_type": "code",
   "execution_count": 25,
   "id": "3a6404ca",
   "metadata": {},
   "outputs": [
    {
     "data": {
      "image/png": "[encoded data removed]",
      "text/plain": [
       "<Figure size 640x480 with 1 Axes>"
      ]
     },
     "metadata": {},
     "output_type": "display_data"
    }
   ],
   "source": [
    "sns.countplot(x=\"rating\",data = nf)\n",
    "plt.xticks(rotation=45)\n",
    "plt.ylabel('Number of contents')\n",
    "plt.show()"
   ]
  },
  {
   "cell_type": "markdown",
   "id": "2fb620d7",
   "metadata": {},
   "source": [
    "###### Top 5 countries that contents in Netflix are made"
   ]
  },
  {
   "cell_type": "code",
   "execution_count": 27,
   "id": "dacccfae",
   "metadata": {},
   "outputs": [
    {
     "name": "stdout",
     "output_type": "stream",
     "text": [
      "Number of title per country\n",
      "country\n",
      "United States     1907\n",
      "India              697\n",
      "United Kingdom     336\n",
      "Japan              168\n",
      "Canada             139\n",
      "Name: title, dtype: int64\n"
     ]
    }
   ],
   "source": [
    "print('Number of title per country')\n",
    "group_country = nf.groupby(\"country\")[\"title\"].count().sort_values(ascending=False)\n",
    "print(group_country[:5])"
   ]
  },
  {
   "cell_type": "markdown",
   "id": "c08bca01",
   "metadata": {},
   "source": [
    "###### What is most created content's category in top 5 countries"
   ]
  },
  {
   "cell_type": "code",
   "execution_count": 28,
   "id": "74c6e235",
   "metadata": {},
   "outputs": [
    {
     "name": "stdout",
     "output_type": "stream",
     "text": [
      "United States\n",
      "Documentaries               201\n",
      "Stand-Up Comedy             173\n",
      "Children & Family Movies     60\n",
      "Name: category, dtype: int64 \n",
      "\n",
      "India\n",
      "Dramas, International Movies                        98\n",
      "Comedies, Dramas, International Movies              75\n",
      "Dramas, Independent Movies, International Movies    74\n",
      "Name: category, dtype: int64 \n",
      "\n",
      "United Kingdom\n",
      "Documentaries                                           37\n",
      "British TV Shows, Docuseries, International TV Shows    25\n",
      "British TV Shows, Docuseries, Science & Nature TV       17\n",
      "Name: category, dtype: int64 \n",
      "\n",
      "Japan\n",
      "Anime Series, International TV Shows                        53\n",
      "Action & Adventure, Anime Features, International Movies    25\n",
      "Anime Series, Kids' TV                                      10\n",
      "Name: category, dtype: int64 \n",
      "\n",
      "Canada\n",
      "Children & Family Movies, Comedies    11\n",
      "Documentaries                          7\n",
      "Children & Family Movies               6\n",
      "Name: category, dtype: int64 \n",
      "\n"
     ]
    }
   ],
   "source": [
    "top_country = ['United States','India','United Kingdom','Japan','Canada']\n",
    "\n",
    "for i in top_country :\n",
    "    x = nf[nf[\"country\"] == i][\"category\"].value_counts(ascending = False)\n",
    "    print(i)\n",
    "    print(x[0:3],'\\n')"
   ]
  },
  {
   "cell_type": "markdown",
   "id": "618dd44a",
   "metadata": {},
   "source": [
    "Hope this findings help we get to know more about Netflix'contents"
   ]
  }
 ],
 "metadata": {
  "kernelspec": {
   "display_name": "Python 3 (ipykernel)",
   "language": "python",
   "name": "python3"
  },
  "language_info": {
   "codemirror_mode": {
    "name": "ipython",
    "version": 3
   },
   "file_extension": ".py",
   "mimetype": "text/x-python",
   "name": "python",
   "nbconvert_exporter": "python",
   "pygments_lexer": "ipython3",
   "version": "3.9.13"
  }
 },
 "nbformat": 4,
 "nbformat_minor": 5
}
